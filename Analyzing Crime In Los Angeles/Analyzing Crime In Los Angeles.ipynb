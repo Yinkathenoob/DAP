{
 "cells": [
  {
   "cell_type": "markdown",
   "id": "31ab2131-3049-4d8d-b9dc-d195f72af27a",
   "metadata": {},
   "source": [
    "![Los Angeles skyline](la_skyline.jpg)\n",
    "\n",
    "Los Angeles, California 😎. The City of Angels. Tinseltown. The Entertainment Capital of the World! \n",
    "\n",
    "Known for its warm weather, palm trees, sprawling coastline, and Hollywood, along with producing some of the most iconic films and songs. However, as with any highly populated city, it isn't always glamorous and there can be a large volume of crime. That's where you can help!\n",
    "\n",
    "You have been asked to support the Los Angeles Police Department (LAPD) by analyzing crime data to identify patterns in criminal behavior. They plan to use your insights to allocate resources effectively to tackle various crimes in different areas.\n",
    "\n",
    "## The Data\n",
    "\n",
    "They have provided you with a single dataset to use. A summary and preview are provided below.\n",
    "\n",
    "It is a modified version of the original data, which is publicly available from Los Angeles Open Data.\n",
    "\n",
    "# crimes.csv\n",
    "\n",
    "| Column     | Description              |\n",
    "|------------|--------------------------|\n",
    "| `'DR_NO'` | Division of Records Number: Official file number made up of a 2-digit year, area ID, and 5 digits. |\n",
    "| `'Date Rptd'` | Date reported - MM/DD/YYYY. |\n",
    "| `'DATE OCC'` | Date of occurrence - MM/DD/YYYY. |\n",
    "| `'TIME OCC'` | In 24-hour military time. |\n",
    "| `'AREA NAME'` | The 21 Geographic Areas or Patrol Divisions are also given a name designation that references a landmark or the surrounding community that it is responsible for. For example, the 77th Street Division is located at the intersection of South Broadway and 77th Street, serving neighborhoods in South Los Angeles. |\n",
    "| `'Crm Cd Desc'` | Indicates the crime committed. |\n",
    "| `'Vict Age'` | Victim's age in years. |\n",
    "| `'Vict Sex'` | Victim's sex: `F`: Female, `M`: Male, `X`: Unknown. |\n",
    "| `'Vict Descent'` | Victim's descent:<ul><li>`A` - Other Asian</li><li>`B` - Black</li><li>`C` - Chinese</li><li>`D` - Cambodian</li><li>`F` - Filipino</li><li>`G` - Guamanian</li><li>`H` - Hispanic/Latin/Mexican</li><li>`I` - American Indian/Alaskan Native</li><li>`J` - Japanese</li><li>`K` - Korean</li><li>`L` - Laotian</li><li>`O` - Other</li><li>`P` - Pacific Islander</li><li>`S` - Samoan</li><li>`U` - Hawaiian</li><li>`V` - Vietnamese</li><li>`W` - White</li><li>`X` - Unknown</li><li>`Z` - Asian Indian</li> |\n",
    "| `'Weapon Desc'` | Description of the weapon used (if applicable). |\n",
    "| `'Status Desc'` | Crime status. |\n",
    "| `'LOCATION'` | Street address of the crime. |"
   ]
  },
  {
   "cell_type": "markdown",
   "id": "dbbecc62",
   "metadata": {},
   "source": [
    "### Explore the crimes.csv dataset and use your findings to answer the following questions:\n",
    "\n",
    "#### 1.Which hour has the highest frequency of crimes? Store as an integer variable called peak_crime_hour.\n",
    "\n",
    "#### 2.Which area has the largest frequency of night crimes (crimes committed between 10pm and 3:59am)? Save as a string variable called peak_night_crime_location.\n",
    "\n",
    "#### 3.Identify the number of crimes committed against victims of different age groups. Save as a pandas Series called victim_ages, with age group labels \"0-17\", \"18-25\", \"26-34\", \"35-44\", \"45-54\", \"55-64\", and \"65+\" as the index and the frequency of crimes as the values."
   ]
  },
  {
   "cell_type": "code",
   "execution_count": 264,
   "id": "7c6c3c36-5c8b-4cce-8681-95292b8f0861",
   "metadata": {
    "executionCancelledAt": null,
    "executionTime": 304,
    "lastExecutedAt": 1742912296156,
    "lastExecutedByKernel": "f1481d25-46a8-4581-9591-361900f606fb",
    "lastScheduledRunId": null,
    "lastSuccessfullyExecutedCode": "# Re-run this cell\n# Import required libraries\nimport pandas as pd\nimport numpy as np\nimport matplotlib.pyplot as plt\nimport seaborn as sns\ncrimes = pd.read_csv(\"crimes.csv\", dtype={\"TIME OCC\": str})\ncrimes.head()",
    "outputsMetadata": {
     "0": {
      "height": 550,
      "tableState": {
       "quickFilterText": ""
      },
      "type": "dataFrame"
     }
    }
   },
   "outputs": [
    {
     "data": {
      "text/html": [
       "<div>\n",
       "<style scoped>\n",
       "    .dataframe tbody tr th:only-of-type {\n",
       "        vertical-align: middle;\n",
       "    }\n",
       "\n",
       "    .dataframe tbody tr th {\n",
       "        vertical-align: top;\n",
       "    }\n",
       "\n",
       "    .dataframe thead th {\n",
       "        text-align: right;\n",
       "    }\n",
       "</style>\n",
       "<table border=\"1\" class=\"dataframe\">\n",
       "  <thead>\n",
       "    <tr style=\"text-align: right;\">\n",
       "      <th></th>\n",
       "      <th>DR_NO</th>\n",
       "      <th>Date Rptd</th>\n",
       "      <th>DATE OCC</th>\n",
       "      <th>TIME OCC</th>\n",
       "      <th>AREA NAME</th>\n",
       "      <th>Crm Cd Desc</th>\n",
       "      <th>Vict Age</th>\n",
       "      <th>Vict Sex</th>\n",
       "      <th>Vict Descent</th>\n",
       "      <th>Weapon Desc</th>\n",
       "      <th>Status Desc</th>\n",
       "      <th>LOCATION</th>\n",
       "    </tr>\n",
       "  </thead>\n",
       "  <tbody>\n",
       "    <tr>\n",
       "      <th>0</th>\n",
       "      <td>220314085</td>\n",
       "      <td>2022-07-22</td>\n",
       "      <td>2020-05-12</td>\n",
       "      <td>1110</td>\n",
       "      <td>Southwest</td>\n",
       "      <td>THEFT OF IDENTITY</td>\n",
       "      <td>27</td>\n",
       "      <td>F</td>\n",
       "      <td>B</td>\n",
       "      <td>NaN</td>\n",
       "      <td>Invest Cont</td>\n",
       "      <td>2500 S  SYCAMORE                     AV</td>\n",
       "    </tr>\n",
       "    <tr>\n",
       "      <th>1</th>\n",
       "      <td>222013040</td>\n",
       "      <td>2022-08-06</td>\n",
       "      <td>2020-06-04</td>\n",
       "      <td>1620</td>\n",
       "      <td>Olympic</td>\n",
       "      <td>THEFT OF IDENTITY</td>\n",
       "      <td>60</td>\n",
       "      <td>M</td>\n",
       "      <td>H</td>\n",
       "      <td>NaN</td>\n",
       "      <td>Invest Cont</td>\n",
       "      <td>3300    SAN MARINO                   ST</td>\n",
       "    </tr>\n",
       "    <tr>\n",
       "      <th>2</th>\n",
       "      <td>220614831</td>\n",
       "      <td>2022-08-18</td>\n",
       "      <td>2020-08-17</td>\n",
       "      <td>1200</td>\n",
       "      <td>Hollywood</td>\n",
       "      <td>THEFT OF IDENTITY</td>\n",
       "      <td>28</td>\n",
       "      <td>M</td>\n",
       "      <td>H</td>\n",
       "      <td>NaN</td>\n",
       "      <td>Invest Cont</td>\n",
       "      <td>1900    TRANSIENT</td>\n",
       "    </tr>\n",
       "    <tr>\n",
       "      <th>3</th>\n",
       "      <td>231207725</td>\n",
       "      <td>2023-02-27</td>\n",
       "      <td>2020-01-27</td>\n",
       "      <td>0635</td>\n",
       "      <td>77th Street</td>\n",
       "      <td>THEFT OF IDENTITY</td>\n",
       "      <td>37</td>\n",
       "      <td>M</td>\n",
       "      <td>H</td>\n",
       "      <td>NaN</td>\n",
       "      <td>Invest Cont</td>\n",
       "      <td>6200    4TH                          AV</td>\n",
       "    </tr>\n",
       "    <tr>\n",
       "      <th>4</th>\n",
       "      <td>220213256</td>\n",
       "      <td>2022-07-14</td>\n",
       "      <td>2020-07-14</td>\n",
       "      <td>0900</td>\n",
       "      <td>Rampart</td>\n",
       "      <td>THEFT OF IDENTITY</td>\n",
       "      <td>79</td>\n",
       "      <td>M</td>\n",
       "      <td>B</td>\n",
       "      <td>NaN</td>\n",
       "      <td>Invest Cont</td>\n",
       "      <td>1200 W  7TH                          ST</td>\n",
       "    </tr>\n",
       "  </tbody>\n",
       "</table>\n",
       "</div>"
      ],
      "text/plain": [
       "       DR_NO   Date Rptd    DATE OCC TIME OCC    AREA NAME        Crm Cd Desc  \\\n",
       "0  220314085  2022-07-22  2020-05-12     1110    Southwest  THEFT OF IDENTITY   \n",
       "1  222013040  2022-08-06  2020-06-04     1620      Olympic  THEFT OF IDENTITY   \n",
       "2  220614831  2022-08-18  2020-08-17     1200    Hollywood  THEFT OF IDENTITY   \n",
       "3  231207725  2023-02-27  2020-01-27     0635  77th Street  THEFT OF IDENTITY   \n",
       "4  220213256  2022-07-14  2020-07-14     0900      Rampart  THEFT OF IDENTITY   \n",
       "\n",
       "   Vict Age Vict Sex Vict Descent Weapon Desc  Status Desc  \\\n",
       "0        27        F            B         NaN  Invest Cont   \n",
       "1        60        M            H         NaN  Invest Cont   \n",
       "2        28        M            H         NaN  Invest Cont   \n",
       "3        37        M            H         NaN  Invest Cont   \n",
       "4        79        M            B         NaN  Invest Cont   \n",
       "\n",
       "                                  LOCATION  \n",
       "0  2500 S  SYCAMORE                     AV  \n",
       "1  3300    SAN MARINO                   ST  \n",
       "2                        1900    TRANSIENT  \n",
       "3  6200    4TH                          AV  \n",
       "4  1200 W  7TH                          ST  "
      ]
     },
     "execution_count": 264,
     "metadata": {},
     "output_type": "execute_result"
    }
   ],
   "source": [
    "# Re-run this cell\n",
    "# Import required libraries\n",
    "import pandas as pd\n",
    "import numpy as np\n",
    "import matplotlib.pyplot as plt\n",
    "import seaborn as sns\n",
    "crimes = pd.read_csv(\"crimes.csv\", dtype={\"TIME OCC\": str})\n",
    "crimes.head()"
   ]
  },
  {
   "cell_type": "code",
   "execution_count": 265,
   "id": "53eada96-447c-46c3-9848-f4ca3de53d06",
   "metadata": {},
   "outputs": [],
   "source": [
    "# Start coding here\n",
    "# Use as many cells as you need"
   ]
  },
  {
   "cell_type": "code",
   "execution_count": 266,
   "id": "09787d4e",
   "metadata": {},
   "outputs": [
    {
     "name": "stdout",
     "output_type": "stream",
     "text": [
      "<class 'pandas.core.frame.DataFrame'>\n",
      "RangeIndex: 185715 entries, 0 to 185714\n",
      "Data columns (total 12 columns):\n",
      " #   Column        Non-Null Count   Dtype \n",
      "---  ------        --------------   ----- \n",
      " 0   DR_NO         185715 non-null  int64 \n",
      " 1   Date Rptd     185715 non-null  object\n",
      " 2   DATE OCC      185715 non-null  object\n",
      " 3   TIME OCC      185715 non-null  object\n",
      " 4   AREA NAME     185715 non-null  object\n",
      " 5   Crm Cd Desc   185715 non-null  object\n",
      " 6   Vict Age      185715 non-null  int64 \n",
      " 7   Vict Sex      185704 non-null  object\n",
      " 8   Vict Descent  185705 non-null  object\n",
      " 9   Weapon Desc   73502 non-null   object\n",
      " 10  Status Desc   185715 non-null  object\n",
      " 11  LOCATION      185715 non-null  object\n",
      "dtypes: int64(2), object(10)\n",
      "memory usage: 17.0+ MB\n"
     ]
    }
   ],
   "source": [
    "crimes.info()"
   ]
  },
  {
   "cell_type": "code",
   "execution_count": 267,
   "id": "78d2268f",
   "metadata": {},
   "outputs": [
    {
     "name": "stdout",
     "output_type": "stream",
     "text": [
      "            DR_NO   Date Rptd    DATE OCC TIME OCC    AREA NAME  \\\n",
      "0       220314085  2022-07-22  2020-05-12     1110    Southwest   \n",
      "1       222013040  2022-08-06  2020-06-04     1620      Olympic   \n",
      "2       220614831  2022-08-18  2020-08-17     1200    Hollywood   \n",
      "3       231207725  2023-02-27  2020-01-27     0635  77th Street   \n",
      "4       220213256  2022-07-14  2020-07-14     0900      Rampart   \n",
      "...           ...         ...         ...      ...          ...   \n",
      "185710  231510379  2023-05-29  2023-05-25     1100  N Hollywood   \n",
      "185711  231604807  2023-01-27  2023-01-26     1800     Foothill   \n",
      "185712  231606525  2023-03-22  2023-03-22     1000     Foothill   \n",
      "185713  231210064  2023-04-12  2023-04-12     1630  77th Street   \n",
      "185714  230906458  2023-03-05  2023-03-05     0900     Van Nuys   \n",
      "\n",
      "                                              Crm Cd Desc  Vict Age Vict Sex  \\\n",
      "0                                       THEFT OF IDENTITY        27        F   \n",
      "1                                       THEFT OF IDENTITY        60        M   \n",
      "2                                       THEFT OF IDENTITY        28        M   \n",
      "3                                       THEFT OF IDENTITY        37        M   \n",
      "4                                       THEFT OF IDENTITY        79        M   \n",
      "...                                                   ...       ...      ...   \n",
      "185710                                 BUNCO, GRAND THEFT        25        M   \n",
      "185711  VANDALISM - FELONY ($400 & OVER, ALL CHURCH VA...        23        M   \n",
      "185712     ASSAULT WITH DEADLY WEAPON, AGGRAVATED ASSAULT        25        F   \n",
      "185713     ASSAULT WITH DEADLY WEAPON, AGGRAVATED ASSAULT        29        M   \n",
      "185714           VANDALISM - MISDEAMEANOR ($399 OR UNDER)        53        F   \n",
      "\n",
      "       Vict Descent                                     Weapon Desc  \\\n",
      "0                 B                                             NaN   \n",
      "1                 H                                             NaN   \n",
      "2                 H                                             NaN   \n",
      "3                 H                                             NaN   \n",
      "4                 B                                             NaN   \n",
      "...             ...                                             ...   \n",
      "185710            W                                             NaN   \n",
      "185711            H                                             NaN   \n",
      "185712            H  STRONG-ARM (HANDS, FIST, FEET OR BODILY FORCE)   \n",
      "185713            B                     UNKNOWN WEAPON/OTHER WEAPON   \n",
      "185714            H                                             NaN   \n",
      "\n",
      "        Status Desc                                  LOCATION  hour_dt  \\\n",
      "0       Invest Cont   2500 S  SYCAMORE                     AV       11   \n",
      "1       Invest Cont   3300    SAN MARINO                   ST       16   \n",
      "2       Invest Cont                         1900    TRANSIENT       12   \n",
      "3       Invest Cont   6200    4TH                          AV        6   \n",
      "4       Invest Cont   1200 W  7TH                          ST        9   \n",
      "...             ...                                       ...      ...   \n",
      "185710  Invest Cont   5300    DENNY                        AV       11   \n",
      "185711  Invest Cont  12500    BRANFORD                     ST       18   \n",
      "185712  Invest Cont  12800    FILMORE                      ST       10   \n",
      "185713  Invest Cont   6100 S  VERMONT                      AV       16   \n",
      "185714  Invest Cont  14500    HARTLAND                     ST        9   \n",
      "\n",
      "            time  \n",
      "0       11:10:00  \n",
      "1       16:20:00  \n",
      "2       12:00:00  \n",
      "3       06:35:00  \n",
      "4       09:00:00  \n",
      "...          ...  \n",
      "185710  11:00:00  \n",
      "185711  18:00:00  \n",
      "185712  10:00:00  \n",
      "185713  16:30:00  \n",
      "185714  09:00:00  \n",
      "\n",
      "[185715 rows x 14 columns]\n"
     ]
    }
   ],
   "source": [
    "crimes['hour_dt'] = pd.to_datetime(crimes['TIME OCC'], format = '%H%M').dt.hour\n",
    "\n",
    "crimes['time'] = pd.to_datetime(crimes['TIME OCC'], format = '%H%M').dt.time\n",
    "\n",
    "print(crimes)"
   ]
  },
  {
   "cell_type": "code",
   "execution_count": 268,
   "id": "1560e4b8",
   "metadata": {},
   "outputs": [
    {
     "name": "stdout",
     "output_type": "stream",
     "text": [
      "12\n"
     ]
    }
   ],
   "source": [
    "peak_crime_hour = int(crimes['hour_dt'].value_counts().idxmax())\n",
    "\n",
    "print(peak_crime_hour)"
   ]
  },
  {
   "cell_type": "markdown",
   "id": "debde557",
   "metadata": {},
   "source": [
    "#### Question 2"
   ]
  },
  {
   "cell_type": "code",
   "execution_count": 269,
   "id": "bb9c9a9a",
   "metadata": {},
   "outputs": [
    {
     "name": "stdout",
     "output_type": "stream",
     "text": [
      "            DR_NO   Date Rptd    DATE OCC TIME OCC    AREA NAME  \\\n",
      "8       231207476  2023-02-27  2020-08-15     0001  77th Street   \n",
      "10      221711184  2022-06-15  2020-05-15     0155   Devonshire   \n",
      "30      221314362  2022-07-11  2020-04-07     0001       Newton   \n",
      "33      231307252  2023-03-03  2020-07-05     2305       Newton   \n",
      "36      221614254  2022-11-13  2020-01-01     0001     Foothill   \n",
      "...           ...         ...         ...      ...          ...   \n",
      "185687  231306158  2023-02-11  2023-02-08     2200       Newton   \n",
      "185695  231212224  2023-05-17  2023-05-17     2300  77th Street   \n",
      "185700  231300825  2023-06-07  2023-06-07     2203       Newton   \n",
      "185701  230908346  2023-04-19  2023-04-18     2243     Van Nuys   \n",
      "185704  231710498  2023-05-29  2023-05-29     0200   Devonshire   \n",
      "\n",
      "                              Crm Cd Desc  Vict Age Vict Sex Vict Descent  \\\n",
      "8                                BURGLARY        72        M            B   \n",
      "10                      THEFT OF IDENTITY        27        M            B   \n",
      "30                      THEFT OF IDENTITY        53        F            H   \n",
      "33                      THEFT OF IDENTITY        22        F            B   \n",
      "36                      THEFT OF IDENTITY        22        F            H   \n",
      "...                                   ...       ...      ...          ...   \n",
      "185687              BURGLARY FROM VEHICLE        38        M            H   \n",
      "185695     VIOLATION OF RESTRAINING ORDER        35        F            H   \n",
      "185700           BATTERY - SIMPLE ASSAULT        45        F            B   \n",
      "185701                  THEFT OF IDENTITY        34        F            B   \n",
      "185704  INTIMATE PARTNER - SIMPLE ASSAULT        27        F            H   \n",
      "\n",
      "                                           Weapon Desc  Status Desc  \\\n",
      "8                                                  NaN  Invest Cont   \n",
      "10                                                 NaN  Invest Cont   \n",
      "30                                                 NaN  Invest Cont   \n",
      "33                                                 NaN  Invest Cont   \n",
      "36                                                 NaN  Invest Cont   \n",
      "...                                                ...          ...   \n",
      "185687                                             NaN  Invest Cont   \n",
      "185695                                             NaN  Invest Cont   \n",
      "185700                     UNKNOWN WEAPON/OTHER WEAPON  Invest Cont   \n",
      "185701                                             NaN  Invest Cont   \n",
      "185704  STRONG-ARM (HANDS, FIST, FEET OR BODILY FORCE)  Invest Cont   \n",
      "\n",
      "                                        LOCATION  hour_dt      time  \n",
      "8        8800    HAAS                         AV        0  00:01:00  \n",
      "10       8300    WHITE OAK                    AV        1  01:55:00  \n",
      "30       1600 E  OLYMPIC                      BL        0  00:01:00  \n",
      "33                              6600 S  BROADWAY       23  23:05:00  \n",
      "36      10200    TELFAIR                      AV        0  00:01:00  \n",
      "...                                          ...      ...       ...  \n",
      "185687   1700 E  16TH                         ST       22  22:00:00  \n",
      "185695   8200 S  MAIN                         ST       23  23:00:00  \n",
      "185700   2300    WALL                         ST       22  22:03:00  \n",
      "185701   4800    COLDWATER CANYON             AV       22  22:43:00  \n",
      "185704  11400    PORTER RANCH                 DR        2  02:00:00  \n",
      "\n",
      "[39183 rows x 14 columns]\n"
     ]
    }
   ],
   "source": [
    "\n",
    "filtered_by_time = crimes[crimes['hour_dt'].isin([22,23,0,1,2,3])]\n",
    "\n",
    "print(filtered_by_time)"
   ]
  },
  {
   "cell_type": "code",
   "execution_count": 270,
   "id": "39754fca",
   "metadata": {},
   "outputs": [
    {
     "name": "stdout",
     "output_type": "stream",
     "text": [
      "Central\n"
     ]
    }
   ],
   "source": [
    "peak_night_crime_location = filtered_by_time['AREA NAME'].value_counts().idxmax()\n",
    "\n",
    "print(peak_night_crime_location)"
   ]
  },
  {
   "cell_type": "markdown",
   "id": "d851197e",
   "metadata": {},
   "source": [
    "### Question 3"
   ]
  },
  {
   "cell_type": "code",
   "execution_count": 271,
   "id": "ebfd24c2",
   "metadata": {},
   "outputs": [
    {
     "name": "stdout",
     "output_type": "stream",
     "text": [
      "            DR_NO   Date Rptd    DATE OCC TIME OCC    AREA NAME  \\\n",
      "0       220314085  2022-07-22  2020-05-12     1110    Southwest   \n",
      "1       222013040  2022-08-06  2020-06-04     1620      Olympic   \n",
      "2       220614831  2022-08-18  2020-08-17     1200    Hollywood   \n",
      "3       231207725  2023-02-27  2020-01-27     0635  77th Street   \n",
      "4       220213256  2022-07-14  2020-07-14     0900      Rampart   \n",
      "...           ...         ...         ...      ...          ...   \n",
      "185710  231510379  2023-05-29  2023-05-25     1100  N Hollywood   \n",
      "185711  231604807  2023-01-27  2023-01-26     1800     Foothill   \n",
      "185712  231606525  2023-03-22  2023-03-22     1000     Foothill   \n",
      "185713  231210064  2023-04-12  2023-04-12     1630  77th Street   \n",
      "185714  230906458  2023-03-05  2023-03-05     0900     Van Nuys   \n",
      "\n",
      "                                              Crm Cd Desc  Vict Age Vict Sex  \\\n",
      "0                                       THEFT OF IDENTITY        27        F   \n",
      "1                                       THEFT OF IDENTITY        60        M   \n",
      "2                                       THEFT OF IDENTITY        28        M   \n",
      "3                                       THEFT OF IDENTITY        37        M   \n",
      "4                                       THEFT OF IDENTITY        79        M   \n",
      "...                                                   ...       ...      ...   \n",
      "185710                                 BUNCO, GRAND THEFT        25        M   \n",
      "185711  VANDALISM - FELONY ($400 & OVER, ALL CHURCH VA...        23        M   \n",
      "185712     ASSAULT WITH DEADLY WEAPON, AGGRAVATED ASSAULT        25        F   \n",
      "185713     ASSAULT WITH DEADLY WEAPON, AGGRAVATED ASSAULT        29        M   \n",
      "185714           VANDALISM - MISDEAMEANOR ($399 OR UNDER)        53        F   \n",
      "\n",
      "       Vict Descent                                     Weapon Desc  \\\n",
      "0                 B                                             NaN   \n",
      "1                 H                                             NaN   \n",
      "2                 H                                             NaN   \n",
      "3                 H                                             NaN   \n",
      "4                 B                                             NaN   \n",
      "...             ...                                             ...   \n",
      "185710            W                                             NaN   \n",
      "185711            H                                             NaN   \n",
      "185712            H  STRONG-ARM (HANDS, FIST, FEET OR BODILY FORCE)   \n",
      "185713            B                     UNKNOWN WEAPON/OTHER WEAPON   \n",
      "185714            H                                             NaN   \n",
      "\n",
      "        Status Desc                                  LOCATION  hour_dt  \\\n",
      "0       Invest Cont   2500 S  SYCAMORE                     AV       11   \n",
      "1       Invest Cont   3300    SAN MARINO                   ST       16   \n",
      "2       Invest Cont                         1900    TRANSIENT       12   \n",
      "3       Invest Cont   6200    4TH                          AV        6   \n",
      "4       Invest Cont   1200 W  7TH                          ST        9   \n",
      "...             ...                                       ...      ...   \n",
      "185710  Invest Cont   5300    DENNY                        AV       11   \n",
      "185711  Invest Cont  12500    BRANFORD                     ST       18   \n",
      "185712  Invest Cont  12800    FILMORE                      ST       10   \n",
      "185713  Invest Cont   6100 S  VERMONT                      AV       16   \n",
      "185714  Invest Cont  14500    HARTLAND                     ST        9   \n",
      "\n",
      "            time age_grp  \n",
      "0       11:10:00   26-34  \n",
      "1       16:20:00   55-64  \n",
      "2       12:00:00   26-34  \n",
      "3       06:35:00   35-44  \n",
      "4       09:00:00     65+  \n",
      "...          ...     ...  \n",
      "185710  11:00:00   18-25  \n",
      "185711  18:00:00   18-25  \n",
      "185712  10:00:00   18-25  \n",
      "185713  16:30:00   26-34  \n",
      "185714  09:00:00   45-54  \n",
      "\n",
      "[185715 rows x 15 columns]\n"
     ]
    }
   ],
   "source": [
    "age_labels = [\"0-17\", \"18-25\", \"26-34\", \"35-44\", \"45-54\", \"55-64\", \"65+\"]\n",
    "\n",
    "age_bins = [0, 17, 25, 34, 44, 54, 64, np.inf]\n",
    "\n",
    "crimes['age_grp'] = pd.cut(x = crimes['Vict Age'], bins = age_bins, labels = age_labels)\n",
    "\n",
    "print(crimes)"
   ]
  },
  {
   "cell_type": "code",
   "execution_count": 272,
   "id": "7a8a3456",
   "metadata": {},
   "outputs": [
    {
     "name": "stdout",
     "output_type": "stream",
     "text": [
      "age_grp\n",
      "26-34    47470\n",
      "35-44    42157\n",
      "45-54    28353\n",
      "18-25    28291\n",
      "55-64    20169\n",
      "65+      14747\n",
      "0-17      4528\n",
      "Name: count, dtype: int64\n"
     ]
    }
   ],
   "source": [
    "victim_ages = crimes['age_grp'].value_counts()\n",
    "\n",
    "print(victim_ages)"
   ]
  }
 ],
 "metadata": {
  "colab": {
   "name": "Welcome to DataCamp Workspaces.ipynb",
   "provenance": []
  },
  "kernelspec": {
   "display_name": "Python 3",
   "language": "python",
   "name": "python3"
  },
  "language_info": {
   "codemirror_mode": {
    "name": "ipython",
    "version": 3
   },
   "file_extension": ".py",
   "mimetype": "text/x-python",
   "name": "python",
   "nbconvert_exporter": "python",
   "pygments_lexer": "ipython3",
   "version": "3.9.10"
  }
 },
 "nbformat": 4,
 "nbformat_minor": 5
}
