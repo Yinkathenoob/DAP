{
 "cells": [
  {
   "cell_type": "markdown",
   "id": "5ed0ca94-e3ab-4fab-a5a3-5eb0307b6c26",
   "metadata": {},
   "source": [
    "![gym](gym.png)\n"
   ]
  },
  {
   "cell_type": "markdown",
   "id": "5fb586d9",
   "metadata": {},
   "source": [
    "### Help the fitness studio explore interest in workouts at a global and national level.\n",
    "\n",
    "#### 1. When was the global search for 'workout' at its peak? Save the year of peak interest as a string named year_str in the format \"yyyy\".\n",
    "\n",
    "#### 2. Of the keywords available, what was the most popular during the covid pandemic, and what is the most popular now? Save your answers as variables called peak_covid and current respectively.\n",
    "\n",
    "#### 3. What country has the highest interest for workouts among the following: United States, Australia, or Japan? Save your answer as top_country.\n",
    "\n",
    "#### 4. You'd be interested in expanding your virtual home workouts offering to either the Philippines or Malaysia. Which of the two countries has the highest interest in home workouts? Identify the country and save it as home_workout_geo."
   ]
  },
  {
   "cell_type": "markdown",
   "id": "7ee8ccb9-c762-4f35-9b79-ebd2ab1824b0",
   "metadata": {},
   "source": [
    "You are a product manager for a fitness studio and are interested in understanding the current demand for digital fitness classes. You plan to conduct a market analysis in Python to gauge demand and identify potential areas for growth of digital products and services.\n",
    "\n",
    "### The Data\n",
    "\n",
    "You are provided with a number of CSV files in the \"Files/data\" folder, which offer international and national-level data on Google Trends keyword searches related to fitness and related products. \n",
    "\n",
    "### workout.csv\n",
    "\n",
    "| Column     | Description              |\n",
    "|------------|--------------------------|\n",
    "| `'month'` | Month when the data was measured. |\n",
    "| `'workout_worldwide'` | Index representing the popularity of the keyword 'workout', on a scale of 0 to 100. |\n",
    "\n",
    "### three_keywords.csv\n",
    "\n",
    "| Column     | Description              |\n",
    "|------------|--------------------------|\n",
    "| `'month'` | Month when the data was measured. |\n",
    "| `'home_workout_worldwide'` | Index representing the popularity of the keyword 'home workout', on a scale of 0 to 100. |\n",
    "| `'gym_workout_worldwide'` | Index representing the popularity of the keyword 'gym workout', on a scale of 0 to 100. |\n",
    "| `'home_gym_worldwide'` | Index representing the popularity of the keyword 'home gym', on a scale of 0 to 100. |\n",
    "\n",
    "### workout_geo.csv\n",
    "\n",
    "| Column     | Description              |\n",
    "|------------|--------------------------|\n",
    "| `'country'` | Country where the data was measured. |\n",
    "| `'workout_2018_2023'` | Index representing the popularity of the keyword 'workout' during the 5 year period. |\n",
    "\n",
    "### three_keywords_geo.csv\n",
    "\n",
    "| Column     | Description              |\n",
    "|------------|--------------------------|\n",
    "| `'country'` | Country where the data was measured. |\n",
    "| `'home_workout_2018_2023'` | Index representing the popularity of the keyword 'home workout' during the 5 year period. |\n",
    "| `'gym_workout_2018_2023'` | Index representing the popularity of the keyword 'gym workout' during the 5 year period.  |\n",
    "| `'home_gym_2018_2023'` | Index representing the popularity of the keyword 'home gym' during the 5 year period. |"
   ]
  },
  {
   "cell_type": "code",
   "execution_count": 34,
   "id": "36e5d14e-3f2b-4123-97a3-d11880a7a047",
   "metadata": {
    "executionCancelledAt": null,
    "executionTime": 338,
    "lastExecutedAt": 1713544496629,
    "lastExecutedByKernel": "dcd53aa8-4097-4021-89f0-1ce4a53edc19",
    "lastScheduledRunId": null,
    "lastSuccessfullyExecutedCode": "# Import the necessary libraries\nimport pandas as pd\nimport matplotlib.pyplot as plt",
    "outputsMetadata": {
     "0": {
      "height": 321,
      "type": "dataFrame"
     }
    }
   },
   "outputs": [],
   "source": [
    "# Import the necessary libraries\n",
    "import pandas as pd\n",
    "import matplotlib.pyplot as plt"
   ]
  },
  {
   "cell_type": "code",
   "execution_count": 35,
   "id": "c303a942-ddac-498d-981e-0b7755259f3f",
   "metadata": {
    "executionCancelledAt": null,
    "executionTime": 9,
    "lastExecutedAt": 1713544498165,
    "lastExecutedByKernel": "dcd53aa8-4097-4021-89f0-1ce4a53edc19",
    "lastScheduledRunId": null,
    "lastSuccessfullyExecutedCode": "# Start coding here"
   },
   "outputs": [],
   "source": [
    "workout = pd.read_csv('workout.csv')\n",
    "three_keywords = pd.read_csv('three_keywords.csv')\n",
    "workout_geo = pd.read_csv('workout_geo.csv')\n",
    "three_keywords_geo = pd.read_csv('three_keywords_geo.csv')"
   ]
  },
  {
   "cell_type": "code",
   "execution_count": 43,
   "id": "f55b2fd5",
   "metadata": {},
   "outputs": [
    {
     "name": "stdout",
     "output_type": "stream",
     "text": [
      "<class 'pandas.core.frame.DataFrame'>\n",
      "RangeIndex: 61 entries, 0 to 60\n",
      "Data columns (total 2 columns):\n",
      " #   Column             Non-Null Count  Dtype \n",
      "---  ------             --------------  ----- \n",
      " 0   month              61 non-null     object\n",
      " 1   workout_worldwide  61 non-null     int64 \n",
      "dtypes: int64(1), object(1)\n",
      "memory usage: 1.1+ KB\n",
      "None\n"
     ]
    }
   ],
   "source": [
    "print(workout.info())"
   ]
  },
  {
   "cell_type": "code",
   "execution_count": 37,
   "id": "d95f7370",
   "metadata": {},
   "outputs": [
    {
     "name": "stdout",
     "output_type": "stream",
     "text": [
      "<class 'pandas.core.frame.DataFrame'>\n",
      "RangeIndex: 61 entries, 0 to 60\n",
      "Data columns (total 4 columns):\n",
      " #   Column                  Non-Null Count  Dtype \n",
      "---  ------                  --------------  ----- \n",
      " 0   month                   61 non-null     object\n",
      " 1   home_workout_worldwide  61 non-null     int64 \n",
      " 2   gym_workout_worldwide   61 non-null     int64 \n",
      " 3   home_gym_worldwide      61 non-null     int64 \n",
      "dtypes: int64(3), object(1)\n",
      "memory usage: 2.0+ KB\n",
      "None\n"
     ]
    }
   ],
   "source": [
    "print(three_keywords.info())"
   ]
  },
  {
   "cell_type": "code",
   "execution_count": 38,
   "id": "546aa4bb",
   "metadata": {},
   "outputs": [
    {
     "name": "stdout",
     "output_type": "stream",
     "text": [
      "                              country  workout_2018_2023\n",
      "0                                Guam                NaN\n",
      "1   Falkland Islands (Islas Malvinas)                NaN\n",
      "2                        Cook Islands                NaN\n",
      "3                              Brunei                NaN\n",
      "4                               Palau                NaN\n",
      "5                       United States              100.0\n",
      "6                           Gibraltar                NaN\n",
      "7            Northern Mariana Islands                NaN\n",
      "8                      American Samoa                NaN\n",
      "9                             Bermuda                NaN\n",
      "10                         Seychelles                NaN\n",
      "11                     Cayman Islands                NaN\n"
     ]
    }
   ],
   "source": [
    "print(workout_geo.head(12))"
   ]
  },
  {
   "cell_type": "code",
   "execution_count": 39,
   "id": "459e033d",
   "metadata": {},
   "outputs": [
    {
     "name": "stdout",
     "output_type": "stream",
     "text": [
      "<class 'pandas.core.frame.DataFrame'>\n",
      "RangeIndex: 250 entries, 0 to 249\n",
      "Data columns (total 4 columns):\n",
      " #   Column                  Non-Null Count  Dtype  \n",
      "---  ------                  --------------  -----  \n",
      " 0   Country                 250 non-null    object \n",
      " 1   home_workout_2018_2023  47 non-null     float64\n",
      " 2   gym_workout_2018_2023   47 non-null     float64\n",
      " 3   home_gym_2018_2023      47 non-null     float64\n",
      "dtypes: float64(3), object(1)\n",
      "memory usage: 7.9+ KB\n",
      "None\n"
     ]
    }
   ],
   "source": [
    "print(three_keywords_geo.info())"
   ]
  },
  {
   "cell_type": "markdown",
   "id": "b7fa465c",
   "metadata": {},
   "source": [
    "#### Question 1"
   ]
  },
  {
   "cell_type": "code",
   "execution_count": 41,
   "id": "47dce8a2",
   "metadata": {},
   "outputs": [
    {
     "name": "stdout",
     "output_type": "stream",
     "text": [
      "      month  workout_worldwide\n",
      "25  2020-04                100\n",
      "26  2020-05                 80\n",
      "34  2021-01                 71\n",
      "27  2020-06                 71\n",
      "46  2022-01                 69\n",
      "..      ...                ...\n",
      "45  2021-12                 47\n",
      "19  2019-10                 47\n",
      "20  2019-11                 47\n",
      "55  2022-10                 46\n",
      "57  2022-12                 44\n",
      "\n",
      "[61 rows x 2 columns]\n"
     ]
    }
   ],
   "source": [
    "filt_year_str = workout.sort_values(by = 'workout_worldwide', ascending= False)\n",
    "\n",
    "print(filt_year_str)"
   ]
  },
  {
   "cell_type": "code",
   "execution_count": 47,
   "id": "d395e1c4",
   "metadata": {},
   "outputs": [
    {
     "name": "stdout",
     "output_type": "stream",
     "text": [
      "2018\n"
     ]
    }
   ],
   "source": [
    "year_str = filt_year_str['month'].loc[0]\n",
    "\n",
    "year_str = year_str[0:4]\n",
    "print(year_str)"
   ]
  }
 ],
 "metadata": {
  "colab": {
   "name": "Welcome to DataCamp Workspaces.ipynb",
   "provenance": []
  },
  "kernelspec": {
   "display_name": "Python 3",
   "language": "python",
   "name": "python3"
  },
  "language_info": {
   "codemirror_mode": {
    "name": "ipython",
    "version": 3
   },
   "file_extension": ".py",
   "mimetype": "text/x-python",
   "name": "python",
   "nbconvert_exporter": "python",
   "pygments_lexer": "ipython3",
   "version": "3.9.10"
  }
 },
 "nbformat": 4,
 "nbformat_minor": 5
}
