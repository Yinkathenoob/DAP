{
 "cells": [
  {
   "cell_type": "markdown",
   "id": "fe7ecb8d-ad0b-40c0-b404-8b4c339d1c8b",
   "metadata": {},
   "source": [
    "![insomnia](insomnia.jpg)\n"
   ]
  },
  {
   "cell_type": "markdown",
   "id": "04929432-e076-40ef-b2a7-8e67dc7ba1a3",
   "metadata": {},
   "source": [
    "Your client, SleepInc, has shared anonymized sleep data from their hot new sleep tracking app SleepScope. As their data science consultant, your mission is to analyze the lifestyle survey data with Python to discover relationships between exercise, gender, occupation, and sleep quality. See if you can identify patterns leading to insights on sleep quality.\n",
    "\n",
    "## 💾 The data: sleep_health_data.csv\n",
    "\n",
    "SleepInc has provided you with an anonymized dataset of sleep and lifestyle metrics for 374 individuals. This dataset contains average values for each person calculated over the past six months. The data is saved as `sleep_health_data.csv`.\n",
    "\n",
    "The dataset includes 13 columns covering sleep duration, quality, disorders, exercise, stress, diet, demographics, and other factors related to sleep health. \n",
    "\n",
    "| Column | Description |\n",
    "|---------|----------------------------------------|  \n",
    "| `Person ID` | An identifier for each individual. |\n",
    "| `Gender` | The gender of the person (Male/Female). |  \n",
    "| `Age` | The age of the person in years. |\n",
    "| `Occupation` | The occupation or profession of the person. |\n",
    "| `Sleep Duration (hours)` | The average number of hours the person sleeps per day. |\n",
    "| `Quality of Sleep (scale: 1-10)` | A subjective rating of the quality of sleep, ranging from 1 to 10. |\n",
    "| `Physical Activity Level (minutes/day)` | The average number of minutes the person engages in physical activity daily. |  \n",
    "| `Stress Level (scale: 1-10)` | A subjective rating of the stress level experienced by the person, ranging from 1 to 10. |\n",
    "| `BMI Category` | The BMI category of the person (e.g., Underweight, Normal, Overweight). |\n",
    "| `Blood Pressure (systolic/diastolic)` | The average blood pressure measurement of the person, indicated as systolic pressure over diastolic pressure. |\n",
    "| `Heart Rate (bpm)` | The average resting heart rate of the person in beats per minute. |\n",
    "| `Daily Steps` | The average number of steps the person takes per day. |\n",
    "| `Sleep Disorder` | The presence or absence of a sleep disorder in the person (None, Insomnia, Sleep Apnea). |"
   ]
  },
  {
   "attachments": {
    "bmi_insomnia.png": {
     "image/png": "[encoded data removed]"
    }
   },
   "cell_type": "markdown",
   "id": "78561084",
   "metadata": {},
   "source": [
    "#### 1. Which occupation has the lowest average sleep duration? Save this in a string variable called lowest_sleep_occ.\n",
    "\n",
    "#### 2. Which occupation has the lowest average sleep quality? Save this in a string variable called lowest_sleep_quality_occ. Did the occupation with the lowest sleep duration also have the lowest sleep quality? If so assign a boolean value to variable same_occ variable, True if it is the same occupation, and False if it isn't.\n",
    "\n",
    "#### 3. Let's explore how BMI Category can affect sleep disorder rates. Start by finding what ratio of app users in each BMI Category have been diagnosed with Insomnia. Create a dictionary named: bmi_insomnia_ratios. The key should be the BMI Category as a string, while the value should be the ratio of people in this category with insomnia as a float rounded to two decimal places. Here is an example:\n",
    "\n",
    "![bmi_insomnia.png](attachment:bmi_insomnia.png)\n",
    "\n",
    "#### Please note the keys are case-sensitive, and should be formatted as shown in the example dictionary."
   ]
  },
  {
   "cell_type": "code",
   "execution_count": 409,
   "id": "a622f61f-54d5-468a-83b6-41f0ff404278",
   "metadata": {
    "executionCancelledAt": null,
    "executionTime": 141,
    "lastExecutedAt": 1704817386715,
    "lastScheduledRunId": null,
    "lastSuccessfullyExecutedCode": "# Start coding here\n# Use as many cells as you need\nimport pandas as pd\n"
   },
   "outputs": [],
   "source": [
    "# Start coding here\n",
    "# Use as many cells as you need\n",
    "import pandas as pd\n",
    "import numpy as np\n",
    "import seaborn as sns\n",
    "import matplotlib.pyplot as plt"
   ]
  },
  {
   "cell_type": "code",
   "execution_count": 410,
   "id": "c6a6b0bb",
   "metadata": {},
   "outputs": [
    {
     "name": "stdout",
     "output_type": "stream",
     "text": [
      "Sleep Disorder\n",
      "None           219\n",
      "Sleep Apnea     78\n",
      "Insomnia        77\n",
      "Name: count, dtype: int64\n"
     ]
    }
   ],
   "source": [
    "sleep_health_data = pd.read_csv('sleep_health_data.csv')\n",
    "\n",
    "sleep_health_data['Sleep Disorder'] = sleep_health_data['Sleep Disorder'].fillna('None')\n",
    "\n",
    "print(sleep_health_data['Sleep Disorder'].value_counts())"
   ]
  },
  {
   "cell_type": "markdown",
   "id": "a90cce21",
   "metadata": {},
   "source": [
    "#### Question 1"
   ]
  },
  {
   "cell_type": "code",
   "execution_count": 411,
   "id": "5d17ef51",
   "metadata": {},
   "outputs": [
    {
     "name": "stdout",
     "output_type": "stream",
     "text": [
      "              Occupation  Sleep Duration\n",
      "6   Sales Representative        5.900000\n",
      "8              Scientist        6.000000\n",
      "7            Salesperson        6.403125\n",
      "10               Teacher        6.690000\n",
      "9      Software Engineer        6.750000\n",
      "4                Manager        6.900000\n",
      "1                 Doctor        6.970423\n",
      "5                  Nurse        7.063014\n",
      "0             Accountant        7.113514\n",
      "3                 Lawyer        7.410638\n",
      "2               Engineer        7.987302\n",
      "Sales Representative\n"
     ]
    }
   ],
   "source": [
    "filtered_occ_dur = sleep_health_data.groupby('Occupation', as_index=False)['Sleep Duration'].mean().sort_values(by = 'Sleep Duration', ascending=True)\n",
    "\n",
    "lowest_sleep_occ = filtered_occ_dur['Occupation'].iloc[0]\n",
    "\n",
    "print(filtered_occ_dur)\n",
    "print(lowest_sleep_occ)"
   ]
  },
  {
   "cell_type": "markdown",
   "id": "366a6374",
   "metadata": {},
   "source": [
    "#### Question 2"
   ]
  },
  {
   "cell_type": "code",
   "execution_count": 412,
   "id": "86769a3e",
   "metadata": {},
   "outputs": [
    {
     "name": "stdout",
     "output_type": "stream",
     "text": [
      "              Occupation  Quality of Sleep\n",
      "6   Sales Representative          4.000000\n",
      "8              Scientist          5.000000\n",
      "7            Salesperson          6.000000\n",
      "9      Software Engineer          6.500000\n",
      "1                 Doctor          6.647887\n",
      "10               Teacher          6.975000\n",
      "4                Manager          7.000000\n",
      "5                  Nurse          7.369863\n",
      "0             Accountant          7.891892\n",
      "3                 Lawyer          7.893617\n",
      "2               Engineer          8.412698\n",
      "Sales Representative\n"
     ]
    }
   ],
   "source": [
    "filtered_occ_qual = sleep_health_data.groupby('Occupation', as_index=False)['Quality of Sleep'].mean().sort_values(by = 'Quality of Sleep', ascending=True)\n",
    "\n",
    "lowest_sleep_quality_occ = filtered_occ_qual['Occupation'].iloc[0]\n",
    "\n",
    "print(filtered_occ_qual)\n",
    "print(lowest_sleep_quality_occ)"
   ]
  },
  {
   "cell_type": "code",
   "execution_count": 413,
   "id": "736b77d0",
   "metadata": {},
   "outputs": [],
   "source": [
    "if lowest_sleep_quality_occ == lowest_sleep_occ:\n",
    "    same_occ = True\n",
    "else:\n",
    "    same_occ = False"
   ]
  },
  {
   "cell_type": "code",
   "execution_count": 414,
   "id": "c82480fd",
   "metadata": {},
   "outputs": [
    {
     "name": "stdout",
     "output_type": "stream",
     "text": [
      "True\n"
     ]
    }
   ],
   "source": [
    "print(same_occ)"
   ]
  },
  {
   "cell_type": "markdown",
   "id": "328ac247",
   "metadata": {},
   "source": [
    "#### Question 3"
   ]
  },
  {
   "cell_type": "code",
   "execution_count": 415,
   "id": "3f2a24c9",
   "metadata": {},
   "outputs": [
    {
     "name": "stdout",
     "output_type": "stream",
     "text": [
      "     Person ID  Gender  Age            Occupation  Sleep Duration  \\\n",
      "0            1    Male   27     Software Engineer             6.1   \n",
      "1            2    Male   28                Doctor             6.2   \n",
      "2            3    Male   28                Doctor             6.2   \n",
      "3            4    Male   28  Sales Representative             5.9   \n",
      "4            5    Male   28  Sales Representative             5.9   \n",
      "..         ...     ...  ...                   ...             ...   \n",
      "369        370  Female   59                 Nurse             8.1   \n",
      "370        371  Female   59                 Nurse             8.0   \n",
      "371        372  Female   59                 Nurse             8.1   \n",
      "372        373  Female   59                 Nurse             8.1   \n",
      "373        374  Female   59                 Nurse             8.1   \n",
      "\n",
      "     Quality of Sleep  Physical Activity Level  Stress Level BMI Category  \\\n",
      "0                   6                       42             6   Overweight   \n",
      "1                   6                       60             8       Normal   \n",
      "2                   6                       60             8       Normal   \n",
      "3                   4                       30             8        Obese   \n",
      "4                   4                       30             8        Obese   \n",
      "..                ...                      ...           ...          ...   \n",
      "369                 9                       75             3   Overweight   \n",
      "370                 9                       75             3   Overweight   \n",
      "371                 9                       75             3   Overweight   \n",
      "372                 9                       75             3   Overweight   \n",
      "373                 9                       75             3   Overweight   \n",
      "\n",
      "    Blood Pressure  Heart Rate  Daily Steps Sleep Disorder  Insom_Status_True  \n",
      "0           126/83          77         4200           None              False  \n",
      "1           125/80          75        10000           None              False  \n",
      "2           125/80          75        10000           None              False  \n",
      "3           140/90          85         3000    Sleep Apnea              False  \n",
      "4           140/90          85         3000    Sleep Apnea              False  \n",
      "..             ...         ...          ...            ...                ...  \n",
      "369         140/95          68         7000    Sleep Apnea              False  \n",
      "370         140/95          68         7000    Sleep Apnea              False  \n",
      "371         140/95          68         7000    Sleep Apnea              False  \n",
      "372         140/95          68         7000    Sleep Apnea              False  \n",
      "373         140/95          68         7000    Sleep Apnea              False  \n",
      "\n",
      "[374 rows x 14 columns]\n"
     ]
    }
   ],
   "source": [
    "sleep_health_data['Insom_Status_True'] = sleep_health_data['Sleep Disorder'] == 'Insomnia'\n",
    "\n",
    "print(sleep_health_data)"
   ]
  },
  {
   "cell_type": "code",
   "execution_count": 416,
   "id": "12e26b9f",
   "metadata": {},
   "outputs": [
    {
     "name": "stdout",
     "output_type": "stream",
     "text": [
      "  BMI Category  Insom_Status_True\n",
      "0       Normal                  9\n",
      "1        Obese                  4\n",
      "2   Overweight                 64\n"
     ]
    }
   ],
   "source": [
    "sorted_insomn = sleep_health_data.groupby('BMI Category', as_index= False)['Insom_Status_True'].sum().sort_values(by = 'BMI Category')\n",
    "\n",
    "print(sorted_insomn)"
   ]
  },
  {
   "cell_type": "code",
   "execution_count": 417,
   "id": "1a6ed323",
   "metadata": {},
   "outputs": [
    {
     "name": "stdout",
     "output_type": "stream",
     "text": [
      "  BMI Category  count\n",
      "0       Normal    216\n",
      "2        Obese     10\n",
      "1   Overweight    148\n"
     ]
    }
   ],
   "source": [
    "sorted_bmi = sleep_health_data['BMI Category'].value_counts().reset_index().sort_values(by = 'BMI Category')\n",
    "\n",
    "print(sorted_bmi)"
   ]
  },
  {
   "cell_type": "code",
   "execution_count": 418,
   "id": "7e4276db",
   "metadata": {},
   "outputs": [
    {
     "name": "stdout",
     "output_type": "stream",
     "text": [
      "  BMI Category  count  Insom_Status_True  Ratio\n",
      "0       Normal    216                  9   0.04\n",
      "1        Obese     10                  4   0.40\n",
      "2   Overweight    148                 64   0.43\n"
     ]
    }
   ],
   "source": [
    "merged_bmi_insom = sorted_bmi.merge(sorted_insomn, on = 'BMI Category')\n",
    "\n",
    "merged_bmi_insom['Ratio'] = (merged_bmi_insom['Insom_Status_True'] / merged_bmi_insom['count']).round(2)\n",
    "\n",
    "print(merged_bmi_insom)"
   ]
  },
  {
   "cell_type": "code",
   "execution_count": 419,
   "id": "ab2adabd",
   "metadata": {},
   "outputs": [
    {
     "name": "stdout",
     "output_type": "stream",
     "text": [
      "{'Normal': 0.04, 'Obese': 0.4, 'Overweight': 0.43}\n"
     ]
    }
   ],
   "source": [
    "bmi_insomnia_ratios = dict(zip(merged_bmi_insom['BMI Category'], merged_bmi_insom['Ratio']))\n",
    "\n",
    "print(bmi_insomnia_ratios)"
   ]
  },
  {
   "cell_type": "code",
   "execution_count": 420,
   "id": "a2a9b9ff",
   "metadata": {},
   "outputs": [
    {
     "name": "stdout",
     "output_type": "stream",
     "text": [
      "<class 'pandas.core.frame.DataFrame'>\n",
      "RangeIndex: 3 entries, 0 to 2\n",
      "Data columns (total 2 columns):\n",
      " #   Column             Non-Null Count  Dtype \n",
      "---  ------             --------------  ----- \n",
      " 0   BMI Category       3 non-null      object\n",
      " 1   Insom_Status_True  3 non-null      int64 \n",
      "dtypes: int64(1), object(1)\n",
      "memory usage: 176.0+ bytes\n",
      "None\n"
     ]
    }
   ],
   "source": [
    "print(sorted_insomn.info())"
   ]
  }
 ],
 "metadata": {
  "colab": {
   "name": "Welcome to DataCamp Workspaces.ipynb",
   "provenance": []
  },
  "kernelspec": {
   "display_name": "Python 3",
   "language": "python",
   "name": "python3"
  },
  "language_info": {
   "codemirror_mode": {
    "name": "ipython",
    "version": 3
   },
   "file_extension": ".py",
   "mimetype": "text/x-python",
   "name": "python",
   "nbconvert_exporter": "python",
   "pygments_lexer": "ipython3",
   "version": "3.9.10"
  }
 },
 "nbformat": 4,
 "nbformat_minor": 5
}
