{
 "cells": [
  {
   "cell_type": "markdown",
   "id": "55bc86ed-e40e-483a-a1e8-c6a666ed8a84",
   "metadata": {},
   "source": [
    "![star_wars_unsplash](star_wars_unsplash.jpg)\n",
    "\n",
    "Lego is a household name across the world, supported by a diverse toy line, hit movies, and a series of successful video games. In this project, we are going to explore a key development in the history of Lego: the introduction of licensed sets such as Star Wars, Super Heroes, and Harry Potter.\n",
    "\n",
    "The introduction of its first licensed series, Star Wars, was a hit that sparked a series of collaborations with more themed sets. The partnerships team has asked you to perform an analysis of this success, and before diving into the analysis, they have suggested reading the descriptions of the two datasets to use, reported below.\n",
    "\n",
    "## The Data\n",
    "\n",
    "You have been provided with two datasets to use. A summary and preview are provided below.\n",
    "\n",
    "## lego_sets.csv\n",
    "\n",
    "| Column     | Description              |\n",
    "|------------|--------------------------|\n",
    "| `\"set_num\"` | A code that is unique to each set in the dataset. This column is critical, and a missing value indicates the set is a duplicate or invalid! |\n",
    "| `\"name\"` | The name of the set. |\n",
    "| `\"year\"` | The date the set was released. |\n",
    "| `\"num_parts\"` | The number of parts contained in the set. This column is not central to our analyses, so missing values are acceptable. |\n",
    "| `\"theme_name\"` | The name of the sub-theme of the set. |\n",
    "| `\"parent_theme\"` | The name of the parent theme the set belongs to. Matches the name column of the parent_themes csv file.\n",
    "|\n",
    "\n",
    "## parent_themes.csv\n",
    "\n",
    "| Column     | Description              |\n",
    "|------------|--------------------------|\n",
    "| `\"id\"` | A code that is unique to every theme. |\n",
    "| `\"name\"` | The name of the parent theme. |\n",
    "| `\"is_licensed\"` | A Boolean column specifying whether the theme is a licensed theme. |"
   ]
  },
  {
   "cell_type": "markdown",
   "id": "0a7511ae",
   "metadata": {},
   "source": [
    "#### The team responsible for the Star Wars partnership has asked for specific information in preparation for their meeting:\n",
    "\n",
    "#### 1. What percentage of all licensed sets ever released were Star Wars themed? Save your answer as a variable the_force, as an integer (e.g. 25).\n",
    "\n",
    "#### 2. In which year was the highest number of Star Wars sets released? Save your answer as a variable new_era, as an integer (e.g. 2012)."
   ]
  },
  {
   "cell_type": "code",
   "execution_count": 267,
   "id": "a92fafb0-d54b-44a4-bad0-e7bb8c0df342",
   "metadata": {
    "executionCancelledAt": null,
    "executionTime": 764,
    "lastExecutedAt": 1714128384449,
    "lastExecutedByKernel": "3bc5f334-42a9-4aed-a512-3692bcb02eca",
    "lastScheduledRunId": null,
    "lastSuccessfullyExecutedCode": "# Import pandas, read and inspect the datasets\nimport pandas as pd\n\nlego_sets = pd.read_csv('data/lego_sets.csv')\nlego_sets.head()",
    "outputsMetadata": {
     "0": {
      "height": 550,
      "tableState": {},
      "type": "dataFrame"
     },
     "1": {
      "height": 196,
      "type": "dataFrame"
     }
    }
   },
   "outputs": [
    {
     "name": "stdout",
     "output_type": "stream",
     "text": [
      "<class 'pandas.core.frame.DataFrame'>\n",
      "RangeIndex: 11986 entries, 0 to 11985\n",
      "Data columns (total 6 columns):\n",
      " #   Column        Non-Null Count  Dtype  \n",
      "---  ------        --------------  -----  \n",
      " 0   set_num       11833 non-null  object \n",
      " 1   name          11833 non-null  object \n",
      " 2   year          11986 non-null  int64  \n",
      " 3   num_parts     6926 non-null   float64\n",
      " 4   theme_name    11833 non-null  object \n",
      " 5   parent_theme  11986 non-null  object \n",
      "dtypes: float64(1), int64(1), object(4)\n",
      "memory usage: 562.0+ KB\n"
     ]
    }
   ],
   "source": [
    "# Import pandas, read and inspect the datasets\n",
    "import pandas as pd\n",
    "\n",
    "lego_sets = pd.read_csv('data/lego_sets.csv')\n",
    "lego_sets.info()"
   ]
  },
  {
   "cell_type": "code",
   "execution_count": 268,
   "id": "bae28977-3536-43e7-9ac2-7fcebc4b68ee",
   "metadata": {
    "executionCancelledAt": null,
    "executionTime": 22,
    "lastExecutedAt": 1714128385311,
    "lastExecutedByKernel": "3bc5f334-42a9-4aed-a512-3692bcb02eca",
    "lastScheduledRunId": null,
    "lastSuccessfullyExecutedCode": "parent_themes = pd.read_csv('data/parent_themes.csv')\nparent_themes.head()",
    "outputsMetadata": {
     "0": {
      "height": 550,
      "tableState": {},
      "type": "dataFrame"
     }
    }
   },
   "outputs": [
    {
     "name": "stdout",
     "output_type": "stream",
     "text": [
      "<class 'pandas.core.frame.DataFrame'>\n",
      "RangeIndex: 111 entries, 0 to 110\n",
      "Data columns (total 3 columns):\n",
      " #   Column       Non-Null Count  Dtype \n",
      "---  ------       --------------  ----- \n",
      " 0   id           111 non-null    int64 \n",
      " 1   name         111 non-null    object\n",
      " 2   is_licensed  111 non-null    bool  \n",
      "dtypes: bool(1), int64(1), object(1)\n",
      "memory usage: 2.0+ KB\n"
     ]
    }
   ],
   "source": [
    "parent_themes = pd.read_csv('data/parent_themes.csv')\n",
    "parent_themes.info()"
   ]
  },
  {
   "cell_type": "markdown",
   "id": "95425b3d",
   "metadata": {},
   "source": [
    "#### Question 1"
   ]
  },
  {
   "cell_type": "code",
   "execution_count": 269,
   "id": "050535e3-612c-4eee-a1c8-413928ff13ca",
   "metadata": {
    "executionCancelledAt": null,
    "executionTime": 10,
    "lastExecutedAt": 1714128387303,
    "lastExecutedByKernel": "3bc5f334-42a9-4aed-a512-3692bcb02eca",
    "lastScheduledRunId": null,
    "lastSuccessfullyExecutedCode": "# Start coding here\n# Use as many cells as you need"
   },
   "outputs": [
    {
     "name": "stdout",
     "output_type": "stream",
     "text": [
      "      id  parent_theme  is_licensed\n",
      "0      1       Technic        False\n",
      "1     22       Creator        False\n",
      "2     50          Town        False\n",
      "3    112        Racers        False\n",
      "4    126         Space        False\n",
      "..   ...           ...          ...\n",
      "106  605  Nexo Knights        False\n",
      "107  606   Angry Birds         True\n",
      "108  607  Ghostbusters         True\n",
      "109  608        Disney         True\n",
      "110  610    Brickheadz        False\n",
      "\n",
      "[111 rows x 3 columns]\n"
     ]
    }
   ],
   "source": [
    "parent_themes = parent_themes.rename(columns={'name' : 'parent_theme'})\n",
    "print(parent_themes)"
   ]
  },
  {
   "cell_type": "code",
   "execution_count": 270,
   "id": "7e0517be",
   "metadata": {},
   "outputs": [
    {
     "name": "stdout",
     "output_type": "stream",
     "text": [
      "parent_theme\n",
      "Town              1116\n",
      "Seasonal           928\n",
      "Star Wars          609\n",
      "Technic            536\n",
      "Service Packs      456\n",
      "                  ... \n",
      "Avatar               2\n",
      "LEGO Exclusive       1\n",
      "Universe             1\n",
      "Disney               1\n",
      "Ghostbusters         1\n",
      "Name: count, Length: 109, dtype: int64\n"
     ]
    }
   ],
   "source": [
    "print(lego_sets['parent_theme'].value_counts())"
   ]
  },
  {
   "cell_type": "code",
   "execution_count": 271,
   "id": "9b303f92",
   "metadata": {},
   "outputs": [
    {
     "name": "stdout",
     "output_type": "stream",
     "text": [
      "        id parent_theme  is_licensed  set_num                            name  \\\n",
      "0        1      Technic        False   1030-1  TECHNIC I: Simple Machines Set   \n",
      "1        1      Technic        False   1032-1           TECHNIC II Set {4.5v}   \n",
      "2        1      Technic        False   1038-1              ERBIE the Robo-Car   \n",
      "3        1      Technic        False   1039-1            Manual Control Set 1   \n",
      "4        1      Technic        False   1061-1                Single Disk Pack   \n",
      "...    ...          ...          ...      ...                             ...   \n",
      "11981  610   Brickheadz        False  41593-1            Captain Jack Sparrow   \n",
      "11982  610   Brickheadz        False  41594-1         Captain Armando Salazar   \n",
      "11983  610   Brickheadz        False  41595-1                           Belle   \n",
      "11984  610   Brickheadz        False  41596-1                           Beast   \n",
      "11985  610   Brickheadz        False  DCBHZ-1                    Wonder Woman   \n",
      "\n",
      "       year  num_parts       theme_name  \n",
      "0      1985        NaN          Technic  \n",
      "1      1985      279.0          Technic  \n",
      "2      1985      120.0          Technic  \n",
      "3      1986       39.0          Technic  \n",
      "4      2000        NaN  Throwbot Slizer  \n",
      "...     ...        ...              ...  \n",
      "11981  2017      109.0       Brickheadz  \n",
      "11982  2017        NaN       Brickheadz  \n",
      "11983  2017        NaN       Brickheadz  \n",
      "11984  2017      116.0       Brickheadz  \n",
      "11985  2017      145.0       Brickheadz  \n",
      "\n",
      "[11986 rows x 8 columns]\n"
     ]
    }
   ],
   "source": [
    "merged = parent_themes.merge(lego_sets, on = 'parent_theme')\n",
    "print(merged)"
   ]
  },
  {
   "cell_type": "code",
   "execution_count": 272,
   "id": "339838b4",
   "metadata": {},
   "outputs": [
    {
     "name": "stdout",
     "output_type": "stream",
     "text": [
      "45\n"
     ]
    }
   ],
   "source": [
    "sorted_by_star = merged[merged['parent_theme'] == 'Star Wars']\n",
    "licensed_star = sorted_by_star[sorted_by_star['is_licensed'] == True]\n",
    "\n",
    "is_licensed =merged[merged['is_licensed'] == True]\n",
    "\n",
    "the_force = int((len(licensed_star)/len(is_licensed))*100)\n",
    "\n",
    "print(the_force)"
   ]
  },
  {
   "cell_type": "markdown",
   "id": "cd6cf8e3",
   "metadata": {},
   "source": [
    "#### Question 2"
   ]
  },
  {
   "cell_type": "code",
   "execution_count": 273,
   "id": "05519341",
   "metadata": {},
   "outputs": [
    {
     "name": "stdout",
     "output_type": "stream",
     "text": [
      "year\n",
      "2016    61\n",
      "2015    58\n",
      "2017    55\n",
      "2014    45\n",
      "2012    43\n",
      "2009    39\n",
      "2013    35\n",
      "2003    32\n",
      "2011    32\n",
      "2010    30\n",
      "2002    28\n",
      "2005    28\n",
      "2000    26\n",
      "2008    23\n",
      "2004    20\n",
      "2007    16\n",
      "2001    14\n",
      "1999    13\n",
      "2006    11\n",
      "Name: theme_name, dtype: int64\n"
     ]
    }
   ],
   "source": [
    "new_era_df = sorted_by_star.groupby('year')['theme_name'].count().sort_values(ascending=False)\n",
    "\n",
    "print(new_era_df)\n",
    "\n",
    "new_era = 2016"
   ]
  }
 ],
 "metadata": {
  "colab": {
   "name": "Welcome to DataCamp Workspaces.ipynb",
   "provenance": []
  },
  "editor": "DataLab",
  "kernelspec": {
   "display_name": "Python 3",
   "language": "python",
   "name": "python3"
  },
  "language_info": {
   "codemirror_mode": {
    "name": "ipython",
    "version": 3
   },
   "file_extension": ".py",
   "mimetype": "text/x-python",
   "name": "python",
   "nbconvert_exporter": "python",
   "pygments_lexer": "ipython3",
   "version": "3.9.10"
  }
 },
 "nbformat": 4,
 "nbformat_minor": 5
}
